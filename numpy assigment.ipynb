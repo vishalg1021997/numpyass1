{
 "cells": [
  {
   "cell_type": "code",
   "execution_count": 1,
   "id": "337cc1b8",
   "metadata": {},
   "outputs": [],
   "source": [
    "import numpy as np"
   ]
  },
  {
   "cell_type": "code",
   "execution_count": 2,
   "id": "4fd7612f",
   "metadata": {},
   "outputs": [
    {
     "data": {
      "text/plain": [
       "array([0., 0., 0., 0., 1., 0., 0., 0., 0., 0.])"
      ]
     },
     "execution_count": 2,
     "metadata": {},
     "output_type": "execute_result"
    }
   ],
   "source": [
    "#1. Create a null vector of size 10 but the fifth value which is 1.\n",
    "\n",
    "vec1 = np.zeros(10)\n",
    "vec1[4] = 1\n",
    "vec1"
   ]
  },
  {
   "cell_type": "code",
   "execution_count": 3,
   "id": "c6c6c31a",
   "metadata": {},
   "outputs": [
    {
     "data": {
      "text/plain": [
       "array([10, 11, 12, 13, 14, 15, 16, 17, 18, 19, 20, 21, 22, 23, 24, 25, 26,\n",
       "       27, 28, 29, 30, 31, 32, 33, 34, 35, 36, 37, 38, 39, 40, 41, 42, 43,\n",
       "       44, 45, 46, 47, 48, 49])"
      ]
     },
     "execution_count": 3,
     "metadata": {},
     "output_type": "execute_result"
    }
   ],
   "source": [
    "#2. Create a vector with values ranging from 10 to 49.\n",
    "\n",
    "vec2 = np.arange(10,50)\n",
    "vec2"
   ]
  },
  {
   "cell_type": "code",
   "execution_count": 4,
   "id": "18cb811e",
   "metadata": {},
   "outputs": [
    {
     "data": {
      "text/plain": [
       "array([[6, 1, 2],\n",
       "       [5, 1, 2],\n",
       "       [7, 4, 1]])"
      ]
     },
     "execution_count": 4,
     "metadata": {},
     "output_type": "execute_result"
    }
   ],
   "source": [
    "#3. Create a 3x3 matrix with values ranging from 0 to 8\n",
    "\n",
    "mat1 = np.random.randint(0,8,(3,3))\n",
    "mat1"
   ]
  },
  {
   "cell_type": "code",
   "execution_count": 5,
   "id": "f0a8f116",
   "metadata": {},
   "outputs": [
    {
     "data": {
      "text/plain": [
       "(array([0, 1, 4], dtype=int64),)"
      ]
     },
     "execution_count": 5,
     "metadata": {},
     "output_type": "execute_result"
    }
   ],
   "source": [
    "#4. Find indices of non-zero elements from [1,2,0,0,4,0]\n",
    "\n",
    "a = np.nonzero([1,2,0,0,4,0])\n",
    "a"
   ]
  },
  {
   "cell_type": "code",
   "execution_count": 6,
   "id": "02050a34",
   "metadata": {},
   "outputs": [
    {
     "name": "stdout",
     "output_type": "stream",
     "text": [
      "[[-1.29573808  0.5259469   0.12242166  1.47272828  1.45242245 -1.70383434\n",
      "   0.25454488 -0.26166459 -0.45677104  0.74180865]\n",
      " [-0.44500792  0.06930621 -0.98067566  1.1617314   1.13887143  0.99773993\n",
      "   1.92411099  0.5564398   0.66925711  0.46928885]\n",
      " [-0.84151762 -0.57117294  1.90734078  0.95606951  0.81937976 -0.26174917\n",
      "   0.98587907  1.35869849 -1.33012562 -2.07378515]\n",
      " [ 1.24015384  0.25775859  1.89967819 -0.24300482  0.68038616  1.70428959\n",
      "  -1.18974055  1.20645332 -1.44438259 -0.71599609]\n",
      " [ 0.22312015 -0.41354018  0.05685132  1.28635617 -0.60743574  0.04791096\n",
      "  -1.75137486 -1.65444306 -1.74595958 -1.22674517]\n",
      " [-0.10444793  1.29373895 -2.21724276 -1.61622439  0.80595661 -1.16744727\n",
      "   0.08526796  0.39811872  1.1682867   1.25812265]\n",
      " [ 0.13423481  0.58974494  1.68517549  0.15171521  0.49041254 -0.24206429\n",
      "   1.38514446  1.09896039 -1.09861682  0.52859624]\n",
      " [-0.05320087  0.30726535 -0.50523115 -0.60181856  0.04436163 -0.26908712\n",
      "   0.93903393 -0.12232089  0.21217685  0.77337477]\n",
      " [ 0.15428625  0.1146681  -0.92709091  0.8146474   0.76737974 -0.24269986\n",
      "  -0.18199475  1.31087238  1.08466081 -0.40229872]\n",
      " [ 1.02671811  0.20099651 -0.42326758 -1.37279852  1.12123912 -1.71301434\n",
      "   1.29809881 -0.42167586 -0.11625464 -1.24822245]]\n",
      "maximum value 1.9241109939002128\n",
      "minimum value -2.2172427591326627\n"
     ]
    }
   ],
   "source": [
    "#5. Create a 10x10 array with random values and find the minimum and maximum values.\n",
    "\n",
    "b = np.random.randn(10,10)\n",
    "print(b)\n",
    "print(\"maximum value\",np.max(b))\n",
    "print(\"minimum value\",np.min(b))"
   ]
  },
  {
   "cell_type": "code",
   "execution_count": 8,
   "id": "0a1b58ec",
   "metadata": {},
   "outputs": [
    {
     "name": "stdout",
     "output_type": "stream",
     "text": [
      "[0.94984899 0.62392383 0.24873782 0.81913083 0.48702473 0.10387112\n",
      " 0.67343162 0.31363823 0.23463649 0.91957035 0.76337847 0.45970417\n",
      " 0.82760261 0.86303273 0.95388504 0.26584895 0.2715684  0.25391363\n",
      " 0.5729291  0.44780329 0.13969617 0.21543108 0.00648482 0.99130742\n",
      " 0.9520952  0.0448866  0.79973748 0.75081005 0.86824741 0.34186062]\n"
     ]
    },
    {
     "data": {
      "text/plain": [
       "0.5388012413703591"
      ]
     },
     "execution_count": 8,
     "metadata": {},
     "output_type": "execute_result"
    }
   ],
   "source": [
    "#6. Create a random vector of size 30 and find the mean value.\n",
    "\n",
    "c = np.random.rand(30)\n",
    "print(c)\n",
    "c.mean()"
   ]
  },
  {
   "cell_type": "code",
   "execution_count": null,
   "id": "67d4a6f3",
   "metadata": {},
   "outputs": [],
   "source": []
  }
 ],
 "metadata": {
  "kernelspec": {
   "display_name": "Python 3 (ipykernel)",
   "language": "python",
   "name": "python3"
  },
  "language_info": {
   "codemirror_mode": {
    "name": "ipython",
    "version": 3
   },
   "file_extension": ".py",
   "mimetype": "text/x-python",
   "name": "python",
   "nbconvert_exporter": "python",
   "pygments_lexer": "ipython3",
   "version": "3.9.6"
  }
 },
 "nbformat": 4,
 "nbformat_minor": 5
}
