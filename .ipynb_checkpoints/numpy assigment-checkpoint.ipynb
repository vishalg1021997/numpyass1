{
 "cells": [
  {
   "cell_type": "code",
   "execution_count": 1,
   "id": "668181c9",
   "metadata": {},
   "outputs": [],
   "source": [
    "import numpy as np"
   ]
  },
  {
   "cell_type": "code",
   "execution_count": 2,
   "id": "d95a2aff",
   "metadata": {},
   "outputs": [
    {
     "data": {
      "text/plain": [
       "array([0., 0., 0., 0., 1., 0., 0., 0., 0., 0.])"
      ]
     },
     "execution_count": 2,
     "metadata": {},
     "output_type": "execute_result"
    }
   ],
   "source": [
    "#1. Create a null vector of size 10 but the fifth value which is 1.\n",
    "\n",
    "vec1 = np.zeros(10)\n",
    "vec1[4] = 1\n",
    "vec1"
   ]
  },
  {
   "cell_type": "code",
   "execution_count": 3,
   "id": "d3268555",
   "metadata": {},
   "outputs": [
    {
     "data": {
      "text/plain": [
       "array([10, 11, 12, 13, 14, 15, 16, 17, 18, 19, 20, 21, 22, 23, 24, 25, 26,\n",
       "       27, 28, 29, 30, 31, 32, 33, 34, 35, 36, 37, 38, 39, 40, 41, 42, 43,\n",
       "       44, 45, 46, 47, 48, 49])"
      ]
     },
     "execution_count": 3,
     "metadata": {},
     "output_type": "execute_result"
    }
   ],
   "source": [
    "#2. Create a vector with values ranging from 10 to 49.\n",
    "\n",
    "vec2 = np.arange(10,50)\n",
    "vec2"
   ]
  },
  {
   "cell_type": "code",
   "execution_count": 6,
   "id": "0dfd8d8d",
   "metadata": {},
   "outputs": [
    {
     "data": {
      "text/plain": [
       "array([[1, 3, 3],\n",
       "       [1, 3, 5],\n",
       "       [2, 6, 4]])"
      ]
     },
     "execution_count": 6,
     "metadata": {},
     "output_type": "execute_result"
    }
   ],
   "source": [
    "#3. Create a 3x3 matrix with values ranging from 0 to 8\n",
    "\n",
    "mat1 = np.random.randint(0,8,(3,3))\n",
    "mat1"
   ]
  },
  {
   "cell_type": "code",
   "execution_count": 11,
   "id": "61e7d40b",
   "metadata": {},
   "outputs": [
    {
     "data": {
      "text/plain": [
       "(array([0, 1, 4], dtype=int64),)"
      ]
     },
     "execution_count": 11,
     "metadata": {},
     "output_type": "execute_result"
    }
   ],
   "source": [
    "#4. Find indices of non-zero elements from [1,2,0,0,4,0]\n",
    "\n",
    "a = np.nonzero([1,2,0,0,4,0])\n",
    "a"
   ]
  },
  {
   "cell_type": "code",
   "execution_count": 17,
   "id": "a0b8e3a7",
   "metadata": {},
   "outputs": [
    {
     "name": "stdout",
     "output_type": "stream",
     "text": [
      "[[-2.25736049  0.85271209 -0.8793982   0.07600788  1.67368264  0.58348065\n",
      "  -1.67795589 -0.21214798  0.15349683 -2.59484038]\n",
      " [-0.62037632 -0.52943372  0.77551983  0.75278093  1.52866644 -0.90166974\n",
      "   0.66059247  0.29369556 -0.31194978  1.51858495]\n",
      " [ 1.4541664   0.17683304  0.51371057 -0.59215733  1.33571963 -1.1639117\n",
      "  -0.10892356  0.59937244 -1.19280724 -0.84397097]\n",
      " [-1.92417257  0.40838965 -1.6835592   0.61340923  1.82570629  0.23081467\n",
      "  -0.12227504  0.39360701 -1.06066929 -2.12747843]\n",
      " [-0.19509199 -0.07205604 -0.20222104  1.28297695 -1.89858147  0.91212522\n",
      "  -0.3640755  -0.34942243  2.08311272 -0.87391066]\n",
      " [ 1.54744374 -0.19063437  0.16729693 -0.22001655 -0.17711978  0.2173392\n",
      "   0.19842477  0.55921564 -0.7887418  -0.48896714]\n",
      " [ 1.82308584  0.59565091  0.14645402  1.63118537  1.80152551 -1.59822397\n",
      "   1.38014375 -1.13490431 -1.46936074  0.13915566]\n",
      " [-1.86801787 -0.17152557 -0.31203203 -1.00275902  0.29033991  1.08162671\n",
      "   0.32738573 -0.26553842 -2.05042302 -0.03765238]\n",
      " [ 0.32544563  0.12162427 -2.03968633 -0.77333111 -0.94338356 -1.05605206\n",
      "  -0.41079567  0.11541294 -1.9767743  -0.3808702 ]\n",
      " [-0.9761166   2.43861936  1.23764268 -0.37935611 -0.18296444 -1.28591158\n",
      "   0.19740072 -0.77825499  1.43822435  0.45702226]]\n",
      "maximum value 2.4386193594707057\n",
      "minimum value -2.594840379154126\n"
     ]
    },
    {
     "data": {
      "text/plain": [
       "100"
      ]
     },
     "execution_count": 17,
     "metadata": {},
     "output_type": "execute_result"
    }
   ],
   "source": [
    "#5. Create a 10x10 array with random values and find the minimum and maximum values.\n",
    "\n",
    "b = np.random.randn(10,10)\n",
    "print(b)\n",
    "print(\"maximum value\",np.max(b))\n",
    "print(\"minimum value\",np.min(b))"
   ]
  },
  {
   "cell_type": "code",
   "execution_count": 30,
   "id": "609e62d0",
   "metadata": {},
   "outputs": [
    {
     "data": {
      "text/plain": [
       "0.4912363316834158"
      ]
     },
     "execution_count": 30,
     "metadata": {},
     "output_type": "execute_result"
    }
   ],
   "source": [
    "#6. Create a random vector of size 30 and find the mean value.\n",
    "\n",
    "c = np.random.rand(30)\n",
    "c.mean()"
   ]
  },
  {
   "cell_type": "code",
   "execution_count": null,
   "id": "b5e6dd59",
   "metadata": {},
   "outputs": [],
   "source": []
  }
 ],
 "metadata": {
  "kernelspec": {
   "display_name": "Python 3 (ipykernel)",
   "language": "python",
   "name": "python3"
  },
  "language_info": {
   "codemirror_mode": {
    "name": "ipython",
    "version": 3
   },
   "file_extension": ".py",
   "mimetype": "text/x-python",
   "name": "python",
   "nbconvert_exporter": "python",
   "pygments_lexer": "ipython3",
   "version": "3.9.6"
  }
 },
 "nbformat": 4,
 "nbformat_minor": 5
}
